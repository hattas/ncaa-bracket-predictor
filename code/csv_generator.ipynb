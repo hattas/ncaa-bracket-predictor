{
 "cells": [
  {
   "cell_type": "code",
   "execution_count": null,
   "metadata": {
    "collapsed": true
   },
   "outputs": [],
   "source": [
    "import pandas as pd\n",
    "import math\n",
    "from random import * \n",
    "# import data sets that will be used\n",
    "team_names = pd.read_csv(\"../csvs/kaggle/predictive/Teams.csv\")\n",
    "regular_season = pd.read_csv(\"../csvs/kaggle/regular_season_stats.csv\", encoding = 'latin-1')\n",
    "pd.set_option('display.max_rows',1755)\n",
    "\n",
    "# adjust data sets to only 2014 and later\n",
    "seeds = seeds[seeds.Season > 2013]\n",
    "regions = regions[regions.Season > 2013]\n",
    "reg_season = reg_season[reg_season.Season > 2013]"
   ]
  },
  {
   "cell_type": "code",
   "execution_count": null,
   "metadata": {
    "collapsed": true
   },
   "outputs": [],
   "source": [
    "# splits the regular season by win and loss and will later combine\n",
    "# this is because the df is by game not overall\n",
    "reg_season_win = reg_season.groupby(['WTeamID','Season'], as_index = False).agg(sum)\n",
    "reg_season_lose = reg_season.groupby(['LTeamID','Season'], as_index = False).agg(sum)\n",
    "\n",
    "# calculates wins and losses for each team\n",
    "team_wins = reg_season.groupby(['WTeamID','Season']).WTeamID.count()\n",
    "team_losses = reg_season.groupby(['LTeamID','Season']).LTeamID.count()\n",
    "\n",
    "# creat lists for wins and losses\n",
    "xwin = []\n",
    "for i in team_wins:\n",
    "    xwin.append(i)\n",
    "\n",
    "xloss = []\n",
    "for i in team_losses:\n",
    "    xloss.append(i)"
   ]
  },
  {
   "cell_type": "code",
   "execution_count": null,
   "metadata": {
    "collapsed": true
   },
   "outputs": [],
   "source": [
    "'''\n",
    "Reason: Undefeated\n",
    "Missing 2015 season for teamId=1246 losing data 690\n",
    "Missing 2014 season for teamId=1455 losing data 1705\n",
    "\n",
    "Reason: Defeated\n",
    "Missing 2015 season for teamId=1212 winning data\n",
    "Missing 2015 season for teamId=1363 winning data \n",
    "'''\n",
    "\n",
    "# inserts a 0 where the value was missing\n",
    "xloss.insert(691,0)\n",
    "xloss.insert(1705,0)\n",
    "\n",
    "xwin.insert(526,0)\n",
    "xwin.insert(1261,0)"
   ]
  },
  {
   "cell_type": "code",
   "execution_count": null,
   "metadata": {},
   "outputs": [],
   "source": [
    "# renames columns to make it easier to combine, merges based on team\n",
    "# winning team becomes team and losing team become opponent stats\n",
    "# same but flipped below for the lose regular season\n",
    "# drops unnecessary columns\n",
    "reg_season_win=reg_season_win.rename(columns={'WTeamID':'TeamID', 'WFGM':'FGM', 'WFGA':'FGA', 'WFGM3':'FGM3', 'WFGA3':'FGA3', \n",
    "                                          'WFTM':'FTM', 'WFTA':'FTA', 'WOR':'OR', 'WDR':'DR', 'WAst':'Ast', 'WTO':'TO', \n",
    "                                          'WStl':'Stl', 'WBlk':'Blk', 'WPF':'PF', 'LFGM':'OFGM', 'LFGA':'OFGA', \n",
    "                                          'LFGM3':'OFGM3', 'LFGA3':'OFGA3', 'LFTM':'OFTM', 'LFTA':'OFTA', 'LOR':'OOR',\n",
    "                                          'LDR':'ODR', 'LAst':'OAst', 'LTO':'OTO', 'LStl':'OStl', 'LBlk':'OBlk', 'LPF':'OPF'\n",
    "                                           })\n",
    "reg_season_win = reg_season_win.drop(['DayNum','WScore','LTeamID','LScore','NumOT'], axis = 1)\n",
    "\n",
    "reg_season_lose=reg_season_lose.rename(columns={'LTeamID':'TeamID', 'LFGM':'FGM', 'LFGA':'FGA', 'LFGM3':'FGM3', 'LFGA3':'FGA3', \n",
    "                                          'LFTM':'FTM', 'LFTA':'FTA', 'LOR':'OR', 'LDR':'DR', 'LAst':'Ast', 'LTO':'TO', \n",
    "                                          'LStl':'Stl', 'LBlk':'Blk', 'LPF':'PF', 'WFGM':'OFGM', 'WFGA':'OFGA', \n",
    "                                          'WFGM3':'OFGM3', 'WFGA3':'OFGA3', 'WFTM':'OFTM', 'WFTA':'OFTA', 'WOR':'OOR',\n",
    "                                          'WDR':'ODR', 'WAst':'OAst', 'WTO':'OTO', 'WStl':'OStl', 'WBlk':'OBlk', 'WPF':'OPF'\n",
    "                                           })\n",
    "reg_season_lose = reg_season_lose.drop(['DayNum','WScore','WTeamID','LScore','NumOT'], axis = 1)\n",
    "\n",
    "regular_season = pd.concat([reg_season_win,reg_season_lose])\n",
    "\n",
    "# reindexs to make it look cleaner\n",
    "regular_season = regular_season.reindex_axis(reg_season_win.columns, axis=1)\n",
    "\n",
    "# Once again takes the sum of every column grouped by each team\n",
    "regular_season = regular_season.groupby(['TeamID','Season'],as_index = False).agg(sum)\n",
    "\n",
    "# creates names array for each team ID \n",
    "names = []\n",
    "for team in regular_season.TeamID:\n",
    "    names.append(team_names['TeamName'][team_names['TeamID']==team].values[0])\n",
    "\n",
    "# inserts Team name, wins, losses columns\n",
    "regular_season.insert(loc=0, column ='TeamName',value=names)\n",
    "regular_season.insert(loc=3, column = 'W', value = xwin)\n",
    "regular_season.insert(loc=4, column = 'L', value = xloss)\n",
    "\n",
    "\n",
    "# creates new columns Games, field goal %, 3-point %, free throw %\n",
    "regular_season.insert(loc=3, column = 'G', value = regular_season.W+regular_season.L)\n",
    "regular_season.insert(loc=8, column = 'FG%', value = regular_season.FGM*100/regular_season.FGA)\n",
    "regular_season.insert(loc=11, column = 'FG3%', value = regular_season.FGM3*100/regular_season.FGA3)\n",
    "regular_season.insert(loc=14, column = 'FT%', value = regular_season.FTM*100/regular_season.FTA)\n",
    "\n",
    "\n",
    "print(len(xwin))\n",
    "print(len(xloss))\n",
    "print(len(names))\n",
    "# views new tidy, clean data frame\n",
    "regular_season.head()\n",
    "# regular_season.to_csv(\"regular_season_stats.csv\", encoding='utf-8', index=False)"
   ]
  }
 ],
 "metadata": {
  "kernelspec": {
   "display_name": "Python 3",
   "language": "python",
   "name": "python3"
  },
  "language_info": {
   "codemirror_mode": {
    "name": "ipython",
    "version": 3
   },
   "file_extension": ".py",
   "mimetype": "text/x-python",
   "name": "python",
   "nbconvert_exporter": "python",
   "pygments_lexer": "ipython3",
   "version": "3.6.3"
  }
 },
 "nbformat": 4,
 "nbformat_minor": 2
}
