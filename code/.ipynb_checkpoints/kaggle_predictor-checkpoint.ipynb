{
 "cells": [
  {
   "cell_type": "code",
   "execution_count": 9,
   "metadata": {
    "collapsed": true,
    "scrolled": true
   },
   "outputs": [],
   "source": [
    "import pandas as pd\n",
    "import math\n",
    "\n",
    "# import data sets that will be used from kaggle\n",
    "seeds = pd.read_csv(\"../csvs/kaggle/predictive/NCAATourneySeeds.csv\")\n",
    "regions = pd.read_csv(\"../csvs/kaggle/predictive/Seasons.csv\")\n",
    "team_names = pd.read_csv(\"../csvs/kaggle/predictive/Teams.csv\")\n",
    "regular_season = pd.read_csv(\"../csvs/kaggle/regular_season_stats.csv\", encoding = 'latin-1')\n",
    "\n",
    "\n",
    "# our made data sets \n",
    "outcomes_14 = pd.read_csv(\"../csvs/1314/1314_outcomes.csv\", encoding = 'latin-1')\n",
    "outcomes_15 = pd.read_csv(\"../csvs/1415/1415_outcomes.csv\", encoding = 'latin-1')\n",
    "outcomes_16 = pd.read_csv(\"../csvs/1516/1516_outcomes.csv\", encoding = 'latin-1')\n",
    "outcomes_17 = pd.read_csv(\"../csvs/1617/1617_outcomes.csv\", encoding = 'latin-1')\n",
    "outcomes = [outcomes_14, outcomes_15, outcomes_16, outcomes_17]\n",
    "\n",
    "\n",
    "pd.set_option('display.max_rows',1755)\n",
    "\n",
    "# adjust data sets to only 2014 and later\n",
    "seeds = seeds[seeds.Season > 2013]"
   ]
  },
  {
   "cell_type": "code",
   "execution_count": 10,
   "metadata": {
    "collapsed": true
   },
   "outputs": [],
   "source": [
    "# Adds the column TeamName to the seeds dataframe\n",
    "names = []\n",
    "for team in seeds.TeamID:\n",
    "    names.append(team_names['TeamName'][team_names['TeamID'] == team].values[0])\n",
    "seeds['TeamName'] = names"
   ]
  },
  {
   "cell_type": "code",
   "execution_count": 11,
   "metadata": {
    "collapsed": true
   },
   "outputs": [],
   "source": [
    "def get_name(team, season):\n",
    "    print(\"get_name\")\n",
    "    return seeds['TeamName'][(seeds['Seed'] == team)\n",
    "           & (seeds['Season'] == season)].values[0]\n",
    "\n",
    "\n",
    "def get_teamID(team, season):\n",
    "    return seeds['TeamID'][(seeds['Seed'] == team)\n",
    "           & (seeds['Season'] == season)].values[0]  \n",
    "\n",
    "\n",
    "def get_stat(team, season, indicator):\n",
    "    return regular_season[(regular_season['TeamID'] == team)\n",
    "           & (regular_season['Season'] == season)][indicator].values[0]\n",
    "\n",
    "\n",
    "def prediction(team1, team2, indicators, season, weights=0):\n",
    "    team1 = get_teamID(team1, season)\n",
    "    team2 = get_teamID(team2, season)\n",
    "    \n",
    "    stats1, stats2, weighted1, weighted2 = [], [], 0, 0 \n",
    "    \n",
    "    \n",
    "    for i in indicators:\n",
    "        stats1.append(get_stat(team1, season, i))\n",
    "        stats2.append(get_stat(team2, season, i))\n",
    "    \n",
    "    # if there is no weights given, assigns each stat the same weight \n",
    "    if weights == 0:\n",
    "        weights = []        \n",
    "        for i in range(len(indicators)):\n",
    "            weights.append(1 / len(indicators))\n",
    "    \n",
    "    # calculates weighted stat for each team \n",
    "    for i in range(len(weights)):\n",
    "        weighted1 += weights[i] * stats1[i]\n",
    "        weighted2 += weights[i] * stats2[i]\n",
    "    \n",
    "    if weighted1 > weighted2:\n",
    "        return team1, team2, 0\n",
    "    else:\n",
    "        return team2, team1, 1\n",
    "\n",
    "\n",
    "def get_actual_results(season):\n",
    "    actual_results = [[], [], [], [], [], []]\n",
    "    \n",
    "    season_outcome = outcomes[season - 2014]\n",
    "    \n",
    "    for round_num in range(0, 6):\n",
    "        num_teams = 2 ** (6 - round_num)\n",
    "        for i in range(num_teams):\n",
    "            actual_results[round_num].append(season_outcome.iloc[0:num_teams, round_num + 1].values[i])\n",
    "    return actual_results\n",
    "\n",
    "\n",
    "def get_tourney_results(season, indicators):\n",
    "    tourney_order = []\n",
    "    for x in open('order.txt', 'r'):\n",
    "        tourney_order.append(x.strip())\n",
    "    \n",
    "    #resets array in format [roundof32, sweet16, elite8, final4, finals, ncaa_winner]\n",
    "    tourney_results = [[], [], [], [], [], []]\n",
    "    next_round = tourney_order[:]\n",
    "\n",
    "    for round_num in range(0, 6):        \n",
    "        num_teams = 2 ** (6 - round_num)\n",
    "        for i in range(0, num_teams, 2):\n",
    "\n",
    "            team1 = next_round[i]\n",
    "            team2 = next_round[i + 1]\n",
    "\n",
    "            # which represents which team to append to the next_round\n",
    "            # which 0 means team1 and which 2 means team2\n",
    "            winner, loser, which = prediction(team1, team2, indicators, season)\n",
    "            next_round.append(next_round[i + which])\n",
    "\n",
    "            tourney_results[round_num].append(winner)\n",
    "\n",
    "        del next_round[0:num_teams]\n",
    "\n",
    "    return tourney_results\n",
    "\n",
    "\n",
    "def get_points(tourney_results, actual_results):\n",
    "    # initializes points and the amount of games correct\n",
    "    points, games_correct = 0, 0\n",
    "    \n",
    "    # calculates how many points our algorithem predicts\n",
    "    for round_num in range(0,6):        \n",
    "        num_teams = 2 ** (5 - round_num)\n",
    "        for i in range(num_teams):\n",
    "            if tourney_results[round_num][i] == actual_results[round_num][i]:\n",
    "                points += round_num\n",
    "                games_correct += 1\n",
    "    return points, games_correct\n",
    "\n"
   ]
  },
  {
   "cell_type": "code",
   "execution_count": 12,
   "metadata": {
    "scrolled": false
   },
   "outputs": [
    {
     "name": "stdout",
     "output_type": "stream",
     "text": [
      "points0\n",
      "points0\n",
      "points0\n",
      "points0\n",
      "points0\n",
      "points0\n",
      "points0\n",
      "points0\n",
      "points0\n"
     ]
    },
    {
     "ename": "NameError",
     "evalue": "name 'best_indicator' is not defined",
     "output_type": "error",
     "traceback": [
      "\u001b[1;31m---------------------------------------------------------------------------\u001b[0m",
      "\u001b[1;31mNameError\u001b[0m                                 Traceback (most recent call last)",
      "\u001b[1;32m<ipython-input-12-c1f88df31137>\u001b[0m in \u001b[0;36m<module>\u001b[1;34m()\u001b[0m\n\u001b[0;32m     15\u001b[0m             \u001b[0mbest_indicator\u001b[0m \u001b[1;33m=\u001b[0m \u001b[0mindicator1\u001b[0m \u001b[1;33m+\u001b[0m \u001b[1;34m\" \"\u001b[0m \u001b[1;33m+\u001b[0m \u001b[0mindicator2\u001b[0m\u001b[1;33m\u001b[0m\u001b[0m\n\u001b[0;32m     16\u001b[0m \u001b[1;33m\u001b[0m\u001b[0m\n\u001b[1;32m---> 17\u001b[1;33m \u001b[0mprint\u001b[0m\u001b[1;33m(\u001b[0m\u001b[1;34m\"The best indicator is: %s\"\u001b[0m \u001b[1;33m%\u001b[0m \u001b[0mbest_indicator\u001b[0m\u001b[1;33m)\u001b[0m\u001b[1;33m\u001b[0m\u001b[0m\n\u001b[0m\u001b[0;32m     18\u001b[0m \u001b[0mprint\u001b[0m\u001b[1;33m(\u001b[0m\u001b[1;34m\"Max total points is equal to: %d\"\u001b[0m \u001b[1;33m%\u001b[0m \u001b[1;36m120\u001b[0m\u001b[1;33m)\u001b[0m\u001b[1;33m\u001b[0m\u001b[0m\n\u001b[0;32m     19\u001b[0m \u001b[0mprint\u001b[0m\u001b[1;33m(\u001b[0m\u001b[1;34m\"Our Total points is equal to: %d\"\u001b[0m \u001b[1;33m%\u001b[0m \u001b[0mbest_points\u001b[0m\u001b[1;33m)\u001b[0m\u001b[1;33m\u001b[0m\u001b[0m\n",
      "\u001b[1;31mNameError\u001b[0m: name 'best_indicator' is not defined"
     ]
    }
   ],
   "source": [
    "season = 2014\n",
    "best_points = 0\n",
    "actual_results = get_actual_results(season)\n",
    "\n",
    "for indicator1 in regular_season.iloc[:, 32:]: # iloc - integer locate - all rows, columns 3 to end\n",
    "    for indicator2 in regular_season.iloc[:, 32:]:\n",
    "        tourney_results = get_tourney_results(2014, [indicator1, indicator2])\n",
    "        \n",
    "        points, games_correct = get_points(tourney_results, actual_results)\n",
    "        print('points' + str(points))\n",
    "        #print(\"points for this indictor ---->\" + str(points))        \n",
    "        if points > best_points: \n",
    "            best_points = points\n",
    "            best_games = games_correct\n",
    "            best_indicator = indicator1 + \" \" + indicator2\n",
    "\n",
    "print(\"The best indicator is: %s\" % best_indicator)\n",
    "print(\"Max total points is equal to: %d\" % 120)\n",
    "print(\"Our Total points is equal to: %d\" % best_points)\n",
    "print(\"We predicted %d games correct out of %d games!\" % (best_games, 63) )\n",
    "print(\"This comes out to be about %d%% of all games\" % round(best_games*100/63) )"
   ]
  }
 ],
 "metadata": {
  "kernelspec": {
   "display_name": "Python 3",
   "language": "python",
   "name": "python3"
  },
  "language_info": {
   "codemirror_mode": {
    "name": "ipython",
    "version": 3
   },
   "file_extension": ".py",
   "mimetype": "text/x-python",
   "name": "python",
   "nbconvert_exporter": "python",
   "pygments_lexer": "ipython3",
   "version": "3.6.3"
  }
 },
 "nbformat": 4,
 "nbformat_minor": 2
}
