{
 "cells": [
  {
   "cell_type": "code",
   "execution_count": 162,
   "metadata": {
    "collapsed": true,
    "scrolled": true
   },
   "outputs": [],
   "source": [
    "import pandas as pd\n",
    "import math\n",
    "from random import * \n",
    "# import data sets that will be used\n",
    "seeds = pd.read_csv(\"../csvs/kaggle/predictive/NCAATourneySeeds.csv\")\n",
    "reg_season = pd.read_csv(\"../csvs/kaggle/predictive/RegularSeasonDetailedResults.csv\")\n",
    "regions = pd.read_csv(\"../csvs/kaggle/predictive/Seasons.csv\")\n",
    "team_names = pd.read_csv(\"../csvs/kaggle/predictive/Teams.csv\")\n",
    "outcomes_14 = pd.read_csv(\"../csvs/1314/1314_outcomes.csv\", encoding = 'latin-1')\n",
    "outcomes_15 = pd.read_csv(\"../csvs/1415/1415_outcomes.csv\", encoding = 'latin-1')\n",
    "outcomes_16 = pd.read_csv(\"../csvs/1516/1516_outcomes.csv\", encoding = 'latin-1')\n",
    "outcomes_17 = pd.read_csv(\"../csvs/1617/1617_outcomes.csv\", encoding = 'latin-1')\n",
    "regular_season = pd.read_csv(\"../csvs/kaggle/regular_season_stats.csv\", encoding = 'latin-1')\n",
    "\n",
    "pd.set_option('display.max_rows',1755)\n",
    "\n",
    "# adjust data sets to only 2014 and later\n",
    "seeds = seeds[seeds.Season > 2013]\n",
    "regions = regions[regions.Season > 2013]\n",
    "reg_season = reg_season[reg_season.Season > 2013]"
   ]
  },
  {
   "cell_type": "code",
   "execution_count": 163,
   "metadata": {
    "collapsed": true
   },
   "outputs": [],
   "source": [
    "# Adds the column TeamName to the seeds dataframe\n",
    "names = []\n",
    "for team in seeds.TeamID:\n",
    "    names.append(team_names['TeamName'][team_names['TeamID']==team].values[0])\n",
    "seeds['TeamName'] = names"
   ]
  },
  {
   "cell_type": "code",
   "execution_count": 164,
   "metadata": {},
   "outputs": [],
   "source": [
    "def getName(team, season):\n",
    "    print(\"getName\")\n",
    "    return seeds['TeamName'][(seeds['Seed'] == team)&(seeds['Season']==season)].values[0]\n",
    "\n",
    "def get_TeamID(team, season):\n",
    "    return seeds['TeamID'][(seeds['Seed'] == team)&(seeds['Season']==season)].values[0]  \n",
    "\n",
    "def get_Stat(team, season, indicator):\n",
    "    return regular_season[(regular_season['TeamID']==team) & (regular_season['Season']==season)][indicator].values[0]\n",
    "\n",
    "def prediction(team1, team2, i1, i2, season):\n",
    "    t1 = get_TeamID(team1, season)\n",
    "    t2 = get_TeamID(team2, season)\n",
    "    \n",
    "    t1_stat = get_Stat(t1, season, i1)*get_Stat(t1, season, i2)\n",
    "    t2_stat = get_Stat(t2, season, i1)*get_Stat(t1, season, i2)\n",
    "    \n",
    "    if t1_stat>t2_stat:\n",
    "        return team1, team2, 0\n",
    "    else:\n",
    "        return team2, team1, 1\n",
    "\n",
    "def get_actual_results(season):\n",
    "    actual_results = [[],[],[],[],[],[]]\n",
    "    for round_num in range(1,7):\n",
    "        #print('round_num = ' + str(round_num)) #DELETE\n",
    "        num_teams = 2**(6-round_num)\n",
    "        #print('num_teams = ' + str(num_teams)) #DELETE\n",
    "        #print('printing outcomes_14.iloc[0:num_teams,round_num]') #DELETE\n",
    "        #print(outcomes_14.iloc[0:num_teams,round_num]) #DELETE\n",
    "        for i in range(num_teams):\n",
    "            actual_results[round_num-1].append(outcomes_14.iloc[0:num_teams,round_num].values[i]) #TODO make it work for any year\n",
    "    return actual_results\n",
    "\n",
    "def get_tourney_results(season, indicators):\n",
    "    tourney_order = []\n",
    "    for x in open('order.txt','r'):\n",
    "        tourney_order.append(x.strip())\n",
    "    \n",
    "    #resets array\n",
    "    #results array is in format [roundof32, sweet16, elite8, final4, finals, ncaa_winner]\n",
    "    roundof32, sweet16, elite8, final4, finals, ncaa_winner = [],[],[],[],[],[]\n",
    "    tourney_results = [roundof32, sweet16, elite8, final4, finals, ncaa_winner]\n",
    "    next_round = tourney_order[:]\n",
    "\n",
    "    for round_num in range(0,6):        \n",
    "        num_teams = 2**(6-round_num)\n",
    "        for i in range(0, num_teams, 2):\n",
    "\n",
    "            team1 = next_round[i]\n",
    "            team2 = next_round[i+1]\n",
    "\n",
    "            winner, loser, which = prediction(team1, team2,indicator1, indicator2, season)\n",
    "            next_round.append(next_round[i+which])\n",
    "\n",
    "            tourney_results[round_num].append(winner)\n",
    "\n",
    "        del next_round[0:num_teams]\n",
    "\n",
    "    return tourney_results\n",
    "\n",
    "def get_points(tourney_results, actual_results):\n",
    "    points, games_correct = 0,0\n",
    "    for round_num in range(0,6):        \n",
    "        num_teams = 2**(5-round_num)\n",
    "        for i in range(num_teams):\n",
    "            if tourney_results[round_num][i] == actual_results[round_num][i]:\n",
    "                points += round_num\n",
    "                games_correct += 1\n",
    "    return points, games_correct"
   ]
  },
  {
   "cell_type": "code",
   "execution_count": 165,
   "metadata": {
    "scrolled": false
   },
   "outputs": [
    {
     "name": "stdout",
     "output_type": "stream",
     "text": [
      "The best indicator is: OPF OStl\n",
      "Max total points is equal to: 120\n",
      "Our Total points is equal to: 22\n",
      "We predicted 16 games correct out of 63 games!\n",
      "This comes out to be about 25% of all games\n"
     ]
    }
   ],
   "source": [
    "season = 2014\n",
    "actual_results = get_actual_results(season)\n",
    "\n",
    "for indicator1 in regular_season.iloc[:, 32:]: # iloc - integer locate - all rows, columns 3 to end\n",
    "    for indicator2 in regular_season.iloc[:, 32:]:\n",
    "        tourney_results = get_tourney_results(2014, [indicator1, indicator2])\n",
    "        \n",
    "        points, games_correct = get_points(tourney_results, actual_results)\n",
    "       \n",
    "        #print(\"points for this indictor ---->\" + str(points))        \n",
    "        if points > best_points: \n",
    "            best_points = points\n",
    "            best_games = games_correct\n",
    "            best_indicator = indicator1 + \" \" +indicator2\n",
    "        \n",
    "print(\"The best indicator is: %s\" % best_indicator)\n",
    "print(\"Max total points is equal to: %d\" % 120)\n",
    "print(\"Our Total points is equal to: %d\" % best_points)\n",
    "print(\"We predicted %d games correct out of %d games!\" % (best_games, 63) )\n",
    "print(\"This comes out to be about %d%% of all games\" % round(best_games*100/63) )"
   ]
  }
 ],
 "metadata": {
  "kernelspec": {
   "display_name": "Python 3",
   "language": "python",
   "name": "python3"
  },
  "language_info": {
   "codemirror_mode": {
    "name": "ipython",
    "version": 3
   },
   "file_extension": ".py",
   "mimetype": "text/x-python",
   "name": "python",
   "nbconvert_exporter": "python",
   "pygments_lexer": "ipython3",
   "version": "3.6.3"
  }
 },
 "nbformat": 4,
 "nbformat_minor": 2
}
