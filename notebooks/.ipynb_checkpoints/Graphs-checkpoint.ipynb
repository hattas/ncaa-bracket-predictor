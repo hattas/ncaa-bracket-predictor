{
 "cells": [
  {
   "cell_type": "code",
   "execution_count": 2,
   "metadata": {},
   "outputs": [],
   "source": [
    "import pandas as pd\n",
    "reg = pd.read_csv(\"../csvs/kaggle/regular_season_stats.csv\", encoding = 'latin-1')"
   ]
  },
  {
   "cell_type": "code",
   "execution_count": 3,
   "metadata": {},
   "outputs": [
    {
     "data": {
      "text/html": [
       "<div>\n",
       "<style scoped>\n",
       "    .dataframe tbody tr th:only-of-type {\n",
       "        vertical-align: middle;\n",
       "    }\n",
       "\n",
       "    .dataframe tbody tr th {\n",
       "        vertical-align: top;\n",
       "    }\n",
       "\n",
       "    .dataframe thead th {\n",
       "        text-align: right;\n",
       "    }\n",
       "</style>\n",
       "<table border=\"1\" class=\"dataframe\">\n",
       "  <thead>\n",
       "    <tr style=\"text-align: right;\">\n",
       "      <th></th>\n",
       "      <th>TeamName</th>\n",
       "      <th>TeamID</th>\n",
       "      <th>Season</th>\n",
       "      <th>G</th>\n",
       "      <th>W</th>\n",
       "      <th>L</th>\n",
       "      <th>FGM</th>\n",
       "      <th>FGA</th>\n",
       "      <th>FG%</th>\n",
       "      <th>FGM3</th>\n",
       "      <th>...</th>\n",
       "      <th>OFGA3</th>\n",
       "      <th>OFTM</th>\n",
       "      <th>OFTA</th>\n",
       "      <th>OOR</th>\n",
       "      <th>ODR</th>\n",
       "      <th>OAst</th>\n",
       "      <th>OTO</th>\n",
       "      <th>OStl</th>\n",
       "      <th>OBlk</th>\n",
       "      <th>OPF</th>\n",
       "    </tr>\n",
       "  </thead>\n",
       "  <tbody>\n",
       "    <tr>\n",
       "      <th>0</th>\n",
       "      <td>Abilene Chr</td>\n",
       "      <td>1101</td>\n",
       "      <td>2014</td>\n",
       "      <td>21</td>\n",
       "      <td>2</td>\n",
       "      <td>19</td>\n",
       "      <td>427</td>\n",
       "      <td>1053</td>\n",
       "      <td>40.550807</td>\n",
       "      <td>140</td>\n",
       "      <td>...</td>\n",
       "      <td>340</td>\n",
       "      <td>385</td>\n",
       "      <td>542</td>\n",
       "      <td>218</td>\n",
       "      <td>506</td>\n",
       "      <td>327</td>\n",
       "      <td>255</td>\n",
       "      <td>147</td>\n",
       "      <td>105</td>\n",
       "      <td>392</td>\n",
       "    </tr>\n",
       "    <tr>\n",
       "      <th>1</th>\n",
       "      <td>Abilene Chr</td>\n",
       "      <td>1101</td>\n",
       "      <td>2015</td>\n",
       "      <td>28</td>\n",
       "      <td>7</td>\n",
       "      <td>21</td>\n",
       "      <td>600</td>\n",
       "      <td>1482</td>\n",
       "      <td>40.485830</td>\n",
       "      <td>203</td>\n",
       "      <td>...</td>\n",
       "      <td>468</td>\n",
       "      <td>437</td>\n",
       "      <td>636</td>\n",
       "      <td>281</td>\n",
       "      <td>725</td>\n",
       "      <td>362</td>\n",
       "      <td>377</td>\n",
       "      <td>164</td>\n",
       "      <td>119</td>\n",
       "      <td>463</td>\n",
       "    </tr>\n",
       "    <tr>\n",
       "      <th>2</th>\n",
       "      <td>Abilene Chr</td>\n",
       "      <td>1101</td>\n",
       "      <td>2016</td>\n",
       "      <td>27</td>\n",
       "      <td>9</td>\n",
       "      <td>18</td>\n",
       "      <td>643</td>\n",
       "      <td>1456</td>\n",
       "      <td>44.162088</td>\n",
       "      <td>185</td>\n",
       "      <td>...</td>\n",
       "      <td>409</td>\n",
       "      <td>478</td>\n",
       "      <td>674</td>\n",
       "      <td>232</td>\n",
       "      <td>681</td>\n",
       "      <td>347</td>\n",
       "      <td>363</td>\n",
       "      <td>138</td>\n",
       "      <td>89</td>\n",
       "      <td>531</td>\n",
       "    </tr>\n",
       "    <tr>\n",
       "      <th>3</th>\n",
       "      <td>Abilene Chr</td>\n",
       "      <td>1101</td>\n",
       "      <td>2017</td>\n",
       "      <td>25</td>\n",
       "      <td>9</td>\n",
       "      <td>16</td>\n",
       "      <td>611</td>\n",
       "      <td>1333</td>\n",
       "      <td>45.836459</td>\n",
       "      <td>177</td>\n",
       "      <td>...</td>\n",
       "      <td>490</td>\n",
       "      <td>397</td>\n",
       "      <td>595</td>\n",
       "      <td>266</td>\n",
       "      <td>626</td>\n",
       "      <td>340</td>\n",
       "      <td>370</td>\n",
       "      <td>151</td>\n",
       "      <td>79</td>\n",
       "      <td>431</td>\n",
       "    </tr>\n",
       "    <tr>\n",
       "      <th>4</th>\n",
       "      <td>Abilene Chr</td>\n",
       "      <td>1101</td>\n",
       "      <td>2018</td>\n",
       "      <td>27</td>\n",
       "      <td>12</td>\n",
       "      <td>15</td>\n",
       "      <td>689</td>\n",
       "      <td>1525</td>\n",
       "      <td>45.180328</td>\n",
       "      <td>175</td>\n",
       "      <td>...</td>\n",
       "      <td>533</td>\n",
       "      <td>449</td>\n",
       "      <td>633</td>\n",
       "      <td>268</td>\n",
       "      <td>676</td>\n",
       "      <td>325</td>\n",
       "      <td>418</td>\n",
       "      <td>176</td>\n",
       "      <td>79</td>\n",
       "      <td>477</td>\n",
       "    </tr>\n",
       "  </tbody>\n",
       "</table>\n",
       "<p>5 rows × 35 columns</p>\n",
       "</div>"
      ],
      "text/plain": [
       "      TeamName  TeamID  Season   G   W   L  FGM   FGA        FG%  FGM3 ...   \\\n",
       "0  Abilene Chr    1101    2014  21   2  19  427  1053  40.550807   140 ...    \n",
       "1  Abilene Chr    1101    2015  28   7  21  600  1482  40.485830   203 ...    \n",
       "2  Abilene Chr    1101    2016  27   9  18  643  1456  44.162088   185 ...    \n",
       "3  Abilene Chr    1101    2017  25   9  16  611  1333  45.836459   177 ...    \n",
       "4  Abilene Chr    1101    2018  27  12  15  689  1525  45.180328   175 ...    \n",
       "\n",
       "   OFGA3  OFTM  OFTA  OOR  ODR  OAst  OTO  OStl  OBlk  OPF  \n",
       "0    340   385   542  218  506   327  255   147   105  392  \n",
       "1    468   437   636  281  725   362  377   164   119  463  \n",
       "2    409   478   674  232  681   347  363   138    89  531  \n",
       "3    490   397   595  266  626   340  370   151    79  431  \n",
       "4    533   449   633  268  676   325  418   176    79  477  \n",
       "\n",
       "[5 rows x 35 columns]"
      ]
     },
     "execution_count": 3,
     "metadata": {},
     "output_type": "execute_result"
    }
   ],
   "source": [
    "reg.head()"
   ]
  },
  {
   "cell_type": "code",
   "execution_count": 4,
   "metadata": {},
   "outputs": [],
   "source": [
    "import matplotlib.pyplot as plt\n",
    "import numpy as np\n",
    "import seaborn as sns\n",
    "sns.set(color_codes=True)\n",
    "reg2014 = reg[reg['Season'] == 2014]\n",
    "reg2015 = reg[reg['Season'] == 2015]\n",
    "reg2016 = reg[reg['Season'] == 2016]\n",
    "reg2017 = reg[reg['Season'] == 2017]"
   ]
  },
  {
   "cell_type": "code",
   "execution_count": 5,
   "metadata": {},
   "outputs": [
    {
     "data": {
      "text/plain": [
       "[Text(0,0.5,'FG%'), Text(0.5,0,'W%'), Text(0.5,1,'FG% vs W%')]"
      ]
     },
     "execution_count": 5,
     "metadata": {},
     "output_type": "execute_result"
    },
    {
     "data": {
      "image/png": "[encoded data removed]",
      "text/plain": [
       "<matplotlib.figure.Figure at 0x1ddfe4e9d68>"
      ]
     },
     "metadata": {},
     "output_type": "display_data"
    }
   ],
   "source": [
    "x = reg2014['W']/reg2014['G']\n",
    "y = reg2014['FG%']/100\n",
    "fig=sns.regplot(x,y)\n",
    "fig.set(xlabel='W%',ylabel='FG%',title='FG% vs W%')"
   ]
  },
  {
   "cell_type": "code",
   "execution_count": 13,
   "metadata": {},
   "outputs": [
    {
     "ename": "SyntaxError",
     "evalue": "invalid syntax (<ipython-input-13-b8633c374953>, line 8)",
     "output_type": "error",
     "traceback": [
      "\u001b[1;36m  File \u001b[1;32m\"<ipython-input-13-b8633c374953>\"\u001b[1;36m, line \u001b[1;32m8\u001b[0m\n\u001b[1;33m    ax[2]=sns.regplot(reg2015['W']/reg2015[reg2015['G'],reg2015['FG%'])\u001b[0m\n\u001b[1;37m                                                                      ^\u001b[0m\n\u001b[1;31mSyntaxError\u001b[0m\u001b[1;31m:\u001b[0m invalid syntax\n"
     ]
    }
   ],
   "source": [
    "#fig, ax = plt.subplots(1,4,sharex='col',sharey='row')\n",
    "#for i in range(1):\n",
    "#    for j in range (4):\n",
    "#        ax[i,j]=sns.regplot(x,y)\n",
    "        \n",
    "a = reg2015['W']/reg2015['G']\n",
    "b = reg2015['FG%']\n",
    "fig, ax = plt.subplots(1, 4, sharex='col', sharey='row')\n",
    "ax[1]=sns.regplot(x,y)\n",
    "ax[2]=sns.regplot(a,b)"
   ]
  },
  {
   "cell_type": "code",
   "execution_count": null,
   "metadata": {},
   "outputs": [],
   "source": []
  }
 ],
 "metadata": {
  "kernelspec": {
   "display_name": "Python 3",
   "language": "python",
   "name": "python3"
  },
  "language_info": {
   "codemirror_mode": {
    "name": "ipython",
    "version": 3
   },
   "file_extension": ".py",
   "mimetype": "text/x-python",
   "name": "python",
   "nbconvert_exporter": "python",
   "pygments_lexer": "ipython3",
   "version": "3.6.4"
  }
 },
 "nbformat": 4,
 "nbformat_minor": 2
}
