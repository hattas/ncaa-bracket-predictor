{
 "cells": [
  {
   "cell_type": "markdown",
   "metadata": {},
   "source": [
    "# normalize.ipynb\n",
    "This notebook gets the statistics ready to be combined and weighted in our model.  \n",
    "Values are scaled to the range [0,1] using the [formula](https://en.wikipedia.org/wiki/Feature_scaling#Rescaling)\n",
    "$$x'=\\frac{x - \\text{min}(x)}{\\text{max}(x)-\\text{min}(x)}$$\n",
    "Opponent stats are inverted so low opponent stats positively impact a team's score.\n",
    "\n",
    "## import regular csv"
   ]
  },
  {
   "cell_type": "code",
   "execution_count": null,
   "metadata": {},
   "outputs": [],
   "source": [
    "import pandas as pd\n",
    "import numpy as np\n",
    "df = pd.read_csv(\"../csvs/kaggle/regular_season_stats.csv\")\n",
    "pd.set_option('display.max_columns', len(df.columns))"
   ]
  },
  {
   "cell_type": "markdown",
   "metadata": {},
   "source": [
    "## invert opponent stats & seeds"
   ]
  },
  {
   "cell_type": "code",
   "execution_count": null,
   "metadata": {},
   "outputs": [],
   "source": [
    "opp = df.columns.get_loc('OFGM')\n",
    "df.iloc[:,opp:] = 1 / df.iloc[:,opp:]\n",
    "seed = df.columns.get_loc('Seed')\n",
    "df['Seed'] = 1 / df['Seed']\n",
    "df = df.replace([np.inf, -np.inf], 0)"
   ]
  },
  {
   "cell_type": "markdown",
   "metadata": {},
   "source": [
    "## invert turnover stats\n",
    "low turnovers wins  \n",
    "high opponent turnovers wins"
   ]
  },
  {
   "cell_type": "code",
   "execution_count": null,
   "metadata": {},
   "outputs": [],
   "source": [
    "to_cols = [col for col in df.columns if 'TO' in col]\n",
    "df[to_cols] = 1 / df[to_cols]"
   ]
  },
  {
   "cell_type": "markdown",
   "metadata": {},
   "source": [
    "## rescale to [0,1]"
   ]
  },
  {
   "cell_type": "code",
   "execution_count": null,
   "metadata": {},
   "outputs": [],
   "source": [
    "start = df.columns.get_loc('Season') + 1\n",
    "sub = df.iloc[:,start:]\n",
    "df.iloc[:,start:] = (sub - sub.min()) / (sub.max() - sub.min())"
   ]
  },
  {
   "cell_type": "markdown",
   "metadata": {},
   "source": [
    "## save processed csv"
   ]
  },
  {
   "cell_type": "code",
   "execution_count": null,
   "metadata": {},
   "outputs": [],
   "source": [
    "df.to_csv(\"..\\\\csvs\\\\kaggle\\\\normalized_stats.csv\", encoding='utf-8', index=False)\n",
    "df"
   ]
  }
 ],
 "metadata": {
  "kernelspec": {
   "display_name": "Python 3",
   "language": "python",
   "name": "python3"
  },
  "language_info": {
   "codemirror_mode": {
    "name": "ipython",
    "version": 3
   },
   "file_extension": ".py",
   "mimetype": "text/x-python",
   "name": "python",
   "nbconvert_exporter": "python",
   "pygments_lexer": "ipython3",
   "version": "3.6.5"
  }
 },
 "nbformat": 4,
 "nbformat_minor": 2
}
